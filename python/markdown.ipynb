{
 "cells": [
  {
   "cell_type": "code",
   "execution_count": 1,
   "metadata": {},
   "outputs": [],
   "source": [
    "import os\n",
    "from datetime import datetime, timedelta\n",
    "import time\n",
    "import slugify\n",
    "\n",
    "import pandas as pd"
   ]
  },
  {
   "cell_type": "code",
   "execution_count": 2,
   "metadata": {},
   "outputs": [],
   "source": [
    "df = pd.read_csv(\"../data/movies.csv\")"
   ]
  },
  {
   "cell_type": "code",
   "execution_count": 3,
   "metadata": {},
   "outputs": [],
   "source": [
    "df[\"poster\"] = df[\"poster\"].fillna(\"\")"
   ]
  },
  {
   "cell_type": "code",
   "execution_count": 4,
   "metadata": {},
   "outputs": [],
   "source": [
    "contents = \"\"\"---\n",
    "title: \"{0}\"\n",
    "date: \"{1}\"\n",
    "layout: movie\n",
    "image: \"{2}\"\n",
    "---\n",
    "\n",
    "{3}\n",
    "\"\"\""
   ]
  },
  {
   "cell_type": "code",
   "execution_count": 6,
   "metadata": {},
   "outputs": [],
   "source": [
    "for _, row in df.iterrows():\n",
    "    title = row[\"title\"]\n",
    "\n",
    "    timestamp = datetime.strftime(\n",
    "        datetime.fromisoformat(\"{0}-01-01\".format(str(row[\"year\"])[:4])),\n",
    "        \"%Y-%m-%d\"\n",
    "    )\n",
    "\n",
    "    #Generate the post id based on Jekyll's requirements.\n",
    "    post_id = \"{0}-{1}.md\".format(\n",
    "        timestamp,\n",
    "        slugify.slugify(title)\n",
    "    )\n",
    "\n",
    "    app_path = \"../web/_posts/\"\n",
    "    post_path = os.path.join(app_path, post_id)\n",
    "\n",
    "    with open(post_path,'w') as f:\n",
    "        f.write(contents.format(title, timestamp, row[\"poster\"], row[\"plot\"]))"
   ]
  },
  {
   "cell_type": "code",
   "execution_count": null,
   "metadata": {},
   "outputs": [],
   "source": []
  }
 ],
 "metadata": {
  "kernelspec": {
   "display_name": "Python 3",
   "language": "python",
   "name": "python3"
  },
  "language_info": {
   "codemirror_mode": {
    "name": "ipython",
    "version": 3
   },
   "file_extension": ".py",
   "mimetype": "text/x-python",
   "name": "python",
   "nbconvert_exporter": "python",
   "pygments_lexer": "ipython3",
   "version": "3.7.6"
  }
 },
 "nbformat": 4,
 "nbformat_minor": 4
}
